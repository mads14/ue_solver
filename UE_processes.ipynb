{
 "cells": [
  {
   "cell_type": "markdown",
   "metadata": {},
   "source": [
    "# Code to run UE solver processes:\n",
    "\n",
    "These instructions assume that a pre-step has been done to generate a networkx graph of the network.\n",
    "Will also assume that we have converted the graph to a geojson and added appropriate extra fields (like city, county, etc.) \n",
    "\n",
    "If this is not the case - these steps can be completed in the **Converting networkx into geojson (only has to be done once)** cell below.\n",
    "\n",
    "To run the solver, we require the following inputs:\n",
    "* Networkx graph\n",
    "* Demand file grouped by some partitions of an area (i.e. TAZ, city, county, district, etc)\n",
    "    * Demand file should have three columns: origin, destination, and flow\n",
    "* Shapefile corresponding to the above demand file\n",
    "\n",
    "\n",
    "# Run solver\n",
    "Below is the baseline run case:"
   ]
  },
  {
   "cell_type": "code",
   "execution_count": 1,
   "metadata": {
    "collapsed": false
   },
   "outputs": [
    {
     "ename": "FileNotFoundError",
     "evalue": "[Errno 2] No such file or directory: 'resources/network/sf_secondary_Webster_Posey_cutlinks/network_graph.txt'",
     "output_type": "error",
     "traceback": [
      "\u001b[0;31m---------------------------------------------------------------------------\u001b[0m",
      "\u001b[0;31mFileNotFoundError\u001b[0m                         Traceback (most recent call last)",
      "\u001b[0;32m<ipython-input-1-8c11660ab514>\u001b[0m in \u001b[0;36m<module>\u001b[0;34m()\u001b[0m\n\u001b[1;32m      8\u001b[0m                            \u001b[0mtaz_shapefile\u001b[0m\u001b[0;34m=\u001b[0m\u001b[0;34m'resources/shapefiles/bay_area_tazs'\u001b[0m\u001b[0;34m,\u001b[0m\u001b[0;34m\u001b[0m\u001b[0m\n\u001b[1;32m      9\u001b[0m                            \u001b[0mdemand_scale\u001b[0m \u001b[0;34m=\u001b[0m \u001b[0;36m1.5\u001b[0m\u001b[0;34m,\u001b[0m \u001b[0mdistance_factor\u001b[0m\u001b[0;34m=\u001b[0m\u001b[0;36m0\u001b[0m\u001b[0;34m,\u001b[0m \u001b[0mtoll_factor\u001b[0m\u001b[0;34m=\u001b[0m\u001b[0;36m0\u001b[0m\u001b[0;34m,\u001b[0m\u001b[0;34m\u001b[0m\u001b[0m\n\u001b[0;32m---> 10\u001b[0;31m                            gap = 10.0)\n\u001b[0m",
      "\u001b[0;32m/Users/heatherchen/ce_research/ue_solver/ue_solver/run_solver.py\u001b[0m in \u001b[0;36mrun_solver_full\u001b[0;34m(network_graph, taz_demand_f, output_file, taz_shapefile, demand_scale, distance_factor, toll_factor, gap)\u001b[0m\n\u001b[1;32m     44\u001b[0m \u001b[0;34m\u001b[0m\u001b[0m\n\u001b[1;32m     45\u001b[0m     \u001b[0;31m# 1. add virtual nodes to network graph (saves taz_dict)\u001b[0m\u001b[0;34m\u001b[0m\u001b[0;34m\u001b[0m\u001b[0m\n\u001b[0;32m---> 46\u001b[0;31m     \u001b[0mG\u001b[0m\u001b[0;34m,\u001b[0m \u001b[0mtaz_dict\u001b[0m \u001b[0;34m=\u001b[0m \u001b[0madd_virtual_nodes\u001b[0m\u001b[0;34m(\u001b[0m\u001b[0mnetwork_graph\u001b[0m\u001b[0;34m,\u001b[0m \u001b[0mtaz_shapefile\u001b[0m\u001b[0;34m,\u001b[0m \u001b[0mn_neighbors\u001b[0m\u001b[0;34m=\u001b[0m\u001b[0;36m5\u001b[0m\u001b[0;34m)\u001b[0m\u001b[0;34m\u001b[0m\u001b[0m\n\u001b[0m\u001b[1;32m     47\u001b[0m \u001b[0;34m\u001b[0m\u001b[0m\n\u001b[1;32m     48\u001b[0m     \u001b[0;31m# 2. convert to network file and save\u001b[0m\u001b[0;34m\u001b[0m\u001b[0;34m\u001b[0m\u001b[0m\n",
      "\u001b[0;32m/Users/heatherchen/ce_research/ue_solver/ue_solver/modify_network.py\u001b[0m in \u001b[0;36madd_virtual_nodes\u001b[0;34m(networkx_f, taz_shpf, n_neighbors)\u001b[0m\n\u001b[1;32m     29\u001b[0m \u001b[0;34m\u001b[0m\u001b[0m\n\u001b[1;32m     30\u001b[0m \u001b[0;32mdef\u001b[0m \u001b[0madd_virtual_nodes\u001b[0m\u001b[0;34m(\u001b[0m\u001b[0mnetworkx_f\u001b[0m\u001b[0;34m,\u001b[0m \u001b[0mtaz_shpf\u001b[0m\u001b[0;34m,\u001b[0m \u001b[0mn_neighbors\u001b[0m\u001b[0;34m)\u001b[0m\u001b[0;34m:\u001b[0m\u001b[0;31m#, taz_dict_outf, graph_name):\u001b[0m\u001b[0;34m\u001b[0m\u001b[0m\n\u001b[0;32m---> 31\u001b[0;31m     \u001b[0;32mwith\u001b[0m \u001b[0mopen\u001b[0m \u001b[0;34m(\u001b[0m\u001b[0mnetworkx_f\u001b[0m\u001b[0;34m)\u001b[0m \u001b[0;32mas\u001b[0m \u001b[0mf\u001b[0m\u001b[0;34m:\u001b[0m\u001b[0;34m\u001b[0m\u001b[0m\n\u001b[0m\u001b[1;32m     32\u001b[0m         \u001b[0mdata\u001b[0m \u001b[0;34m=\u001b[0m \u001b[0mjson\u001b[0m\u001b[0;34m.\u001b[0m\u001b[0mload\u001b[0m\u001b[0;34m(\u001b[0m\u001b[0mf\u001b[0m\u001b[0;34m)\u001b[0m\u001b[0;34m\u001b[0m\u001b[0m\n\u001b[1;32m     33\u001b[0m     \u001b[0mG\u001b[0m \u001b[0;34m=\u001b[0m \u001b[0mjson_graph\u001b[0m\u001b[0;34m.\u001b[0m\u001b[0mnode_link_graph\u001b[0m\u001b[0;34m(\u001b[0m\u001b[0mdata\u001b[0m\u001b[0;34m)\u001b[0m\u001b[0;34m\u001b[0m\u001b[0m\n",
      "\u001b[0;31mFileNotFoundError\u001b[0m: [Errno 2] No such file or directory: 'resources/network/sf_secondary_Webster_Posey_cutlinks/network_graph.txt'"
     ]
    }
   ],
   "source": [
    "from ue_solver import run_solver\n",
    "\n",
    "taz_demand_f = 'resources/demand/TAZ_sf_demand.csv'\n",
    "network_graph = 'resources/network/sf_secondary_Webster_Posey_cutlinks/network_graph.txt'\n",
    "output_file = 'resources/results/sf_secondary_Webster_Posey_cutlinks/demand_1p5_gap100.txt'\n",
    "\n",
    "run_solver.run_solver_full(network_graph, taz_demand_f, output_file, \n",
    "                           taz_shapefile='resources/shapefiles/bay_area_tazs',\n",
    "                           demand_scale = 1.5, distance_factor=0, toll_factor=0, \n",
    "                           gap = 10.0)\n"
   ]
  },
  {
   "cell_type": "markdown",
   "metadata": {},
   "source": [
    "### Converting networkx into geojson (only has to be done once)\n",
    "If geojson exists for the network of interest, than should not need to run this cell."
   ]
  },
  {
   "cell_type": "code",
   "execution_count": 17,
   "metadata": {
    "collapsed": false
   },
   "outputs": [
    {
     "name": "stdout",
     "output_type": "stream",
     "text": [
      "<type 'str'>\n",
      "77028\n",
      "network already has city labels\n"
     ]
    }
   ],
   "source": [
    "from ue_solver.conversions import networkx_to_geojson\n",
    "from ue_solver.modify_network import remove_duplicate_links\n",
    "from ue_solver.modify_network import append_city_names\n",
    "\n",
    "#inputs:\n",
    "graph_f='resources/network/sf_secondary_Webster_Posey_cutlinks/network_graph.txt'\n",
    "geojson_f ='resources/network/sf_secondary_Webster_Posey_cutlinks/network.geojson' \n",
    "\n",
    "networkx_to_geojson(graph_f, geojson_outf=geojson_f)\n",
    "\n",
    "# if this is the first time creating a geojson from a networkx, probably want to \n",
    "# run the following clean-up:\n",
    "remove_duplicate_links(geojson_inf=geojson_f, geojson_outf=geojson_f)\n",
    "\n",
    "#to add city (and county) info:\n",
    "ca_cities_shp = 'resources/shapefiles/ca_cities_2014'\n",
    "append_city_names(ca_cities_shp, geojson_f)"
   ]
  },
  {
   "cell_type": "markdown",
   "metadata": {},
   "source": [
    "# Modifying network: \n",
    "## 1. Update network capacity:\n",
    "* Simulate different capacities in network\n",
    "* Requires geoJSON format of networkx graph (can be obtained from conversion in the above cell)"
   ]
  },
  {
   "cell_type": "code",
   "execution_count": null,
   "metadata": {
    "collapsed": true
   },
   "outputs": [],
   "source": [
    "from ue_solver.modify_network import update_capacity\n",
    "\n",
    "attr_dict = {'county': ['Alameda']}\n",
    "# attr_dict = {'city': ['Berkeley', 'Oakland']}\n",
    "percent_cap = .5\n",
    "geojson_inf = 'resources/network/sf_secondary/network.geojson'\n",
    "geojson_outf = 'resources/network/sf_secondary_alameda_0p5/network.geojson'\n",
    "graph_outf = 'resources/network/sf_secondary_alameda_0p5/network_graph.txt'\n",
    "\n",
    "update_capacity(attr_dict, percent_cap, geojson_inf, \n",
    "                geojson_outf, graph_outf)"
   ]
  },
  {
   "cell_type": "markdown",
   "metadata": {},
   "source": [
    "## 2. Cut links:\n",
    "* Simulate network with links removed\n",
    "* Cut links is a CSV file of links that will be removed (to simulate road closures, etc)"
   ]
  },
  {
   "cell_type": "code",
   "execution_count": 4,
   "metadata": {
    "collapsed": false
   },
   "outputs": [],
   "source": [
    "from ue_solver.modify_network import cut_links\n",
    "\n",
    "#Inputs:\n",
    "geojson_inf = 'resources/network/sf_secondary/network.geojson'\n",
    "links_f = 'resources/cut_links/Webster_Posey_cutlinks.csv'\n",
    "geojson_outf = 'resources/network/sf_secondary_Webster_Posey_cutlinks/network.geojson'\n",
    "graph_outf = 'resources/network/sf_secondary_Webster_Posey_cutlinks/network_graph.txt'\n",
    "\n",
    "cut_links(geojson_inf, links_f, geojson_outf, graph_outf)"
   ]
  },
  {
   "cell_type": "markdown",
   "metadata": {},
   "source": [
    "# Process results\n",
    "* Now that the results have been generated from \"Run solver\", we can analyze VMT (Vehicle Miles Traveled), VHT (Vehicle Hours Traveled), and Delay (difference from free flow time)\n",
    "\n",
    "## 1. Results to geojson"
   ]
  },
  {
   "cell_type": "code",
   "execution_count": 18,
   "metadata": {
    "collapsed": false
   },
   "outputs": [],
   "source": [
    "from ue_solver.process_results import results_to_geojson\n",
    "\n",
    "#Inputs:\n",
    "results_f = 'resources/results/sf_secondary_Webster_Posey_cutlinks/demand_1p5_gap100.txt'\n",
    "geojson_inf = 'resources/network/sf_secondary_Webster_Posey_cutlinks/network.geojson'\n",
    "geojson_outf = 'resources/results/sf_secondary_Webster_Posey_cutlinks/demand_1p5_gap100.geojson'\n",
    "\n",
    "results_to_geojson(results_f, geojson_inf, geojson_outf)"
   ]
  },
  {
   "cell_type": "markdown",
   "metadata": {},
   "source": [
    "## 2. VMT, VHT, Delay\n",
    "Takes the results calculated from solver and sums miles, hours and delay for each trip to calculate vehicle miles traveled, vehicle hours traveled and delay respectively.\n",
    "\n",
    "Vehical miles traveled and vehicle hours traveled are calculated by multiplying flow across a link by the length and time traveled respectively. \n",
    "Delay is calculated by taking the difference between result travel time and free flow travel time.\n"
   ]
  },
  {
   "cell_type": "code",
   "execution_count": 2,
   "metadata": {
    "collapsed": false
   },
   "outputs": [
    {
     "name": "stdout",
     "output_type": "stream",
     "text": [
      "started at 1492561740.836073\n"
     ]
    },
    {
     "ename": "OSError",
     "evalue": "no such file or directory: 'resources/results/sf_secondary_Webster_Posey_cutlinks/demand_1p5_gap100.geojson'",
     "output_type": "error",
     "traceback": [
      "\u001b[0;31m---------------------------------------------------------------------------\u001b[0m",
      "\u001b[0;31mOSError\u001b[0m                                   Traceback (most recent call last)",
      "\u001b[0;32m<ipython-input-2-e1132415f842>\u001b[0m in \u001b[0;36m<module>\u001b[0;34m()\u001b[0m\n\u001b[1;32m     12\u001b[0m \u001b[0msave_path\u001b[0m \u001b[0;34m=\u001b[0m \u001b[0;34m'resources/results/sf_secondary_Webster_Posey_cutlinks/vmt_vht_delay.pdf'\u001b[0m\u001b[0;34m\u001b[0m\u001b[0m\n\u001b[1;32m     13\u001b[0m \u001b[0;34m\u001b[0m\u001b[0m\n\u001b[0;32m---> 14\u001b[0;31m \u001b[0mgeoj_vmt_vht_delay\u001b[0m\u001b[0;34m(\u001b[0m\u001b[0mresults_geoj\u001b[0m\u001b[0;34m,\u001b[0m \u001b[0mcities_aggregate_output_file\u001b[0m\u001b[0;34m,\u001b[0m \u001b[0moutput_summary\u001b[0m\u001b[0;34m,\u001b[0m \u001b[0mtotalODflow\u001b[0m\u001b[0;34m,\u001b[0m \u001b[0mmin_speed\u001b[0m\u001b[0;34m,\u001b[0m \u001b[0msave_path\u001b[0m\u001b[0;34m)\u001b[0m\u001b[0;34m\u001b[0m\u001b[0m\n\u001b[0m\u001b[1;32m     15\u001b[0m \u001b[0;34m\u001b[0m\u001b[0m\n\u001b[1;32m     16\u001b[0m \u001b[0mprint\u001b[0m\u001b[0;34m(\u001b[0m\u001b[0;34m'done in'\u001b[0m\u001b[0;34m,\u001b[0m \u001b[0mtime\u001b[0m\u001b[0;34m.\u001b[0m\u001b[0mtime\u001b[0m\u001b[0;34m(\u001b[0m\u001b[0;34m)\u001b[0m\u001b[0;34m-\u001b[0m\u001b[0mstart\u001b[0m\u001b[0;34m,\u001b[0m \u001b[0;34m'sec'\u001b[0m\u001b[0;34m)\u001b[0m\u001b[0;34m\u001b[0m\u001b[0m\n",
      "\u001b[0;32m/Users/heatherchen/ce_research/ue_solver/ue_solver/process_results.py\u001b[0m in \u001b[0;36mgeoj_vmt_vht_delay\u001b[0;34m(results_geoj, cities_aggregate_output_file, output_summary, totalODflow, min_speed, save_path)\u001b[0m\n\u001b[1;32m     59\u001b[0m \t'''\n\u001b[1;32m     60\u001b[0m         \u001b[0;31m# TODO make totalODflow automatically determined (use calculation)\u001b[0m\u001b[0;34m\u001b[0m\u001b[0;34m\u001b[0m\u001b[0m\n\u001b[0;32m---> 61\u001b[0;31m         \u001b[0mresults_df\u001b[0m \u001b[0;34m=\u001b[0m \u001b[0mgpd\u001b[0m\u001b[0;34m.\u001b[0m\u001b[0mread_file\u001b[0m\u001b[0;34m(\u001b[0m\u001b[0mresults_geoj\u001b[0m\u001b[0;34m)\u001b[0m\u001b[0;34m\u001b[0m\u001b[0m\n\u001b[0m\u001b[1;32m     62\u001b[0m         \u001b[0mresults\u001b[0m \u001b[0;34m=\u001b[0m \u001b[0mdf_vmt_vht_delay\u001b[0m\u001b[0;34m(\u001b[0m\u001b[0mresults_df\u001b[0m\u001b[0;34m,\u001b[0m \u001b[0moutput_summary\u001b[0m\u001b[0;34m,\u001b[0m \u001b[0mtotalODflow\u001b[0m\u001b[0;34m,\u001b[0m \u001b[0mmin_speed\u001b[0m\u001b[0;34m)\u001b[0m\u001b[0;34m\u001b[0m\u001b[0m\n\u001b[1;32m     63\u001b[0m         \u001b[0;31m# results.to_csv(processing_output)\u001b[0m\u001b[0;34m\u001b[0m\u001b[0;34m\u001b[0m\u001b[0m\n",
      "\u001b[0;32m/Applications/anaconda/lib/python3.5/site-packages/geopandas/io/file.py\u001b[0m in \u001b[0;36mread_file\u001b[0;34m(filename, **kwargs)\u001b[0m\n\u001b[1;32m     19\u001b[0m     \"\"\"\n\u001b[1;32m     20\u001b[0m     \u001b[0mbbox\u001b[0m \u001b[0;34m=\u001b[0m \u001b[0mkwargs\u001b[0m\u001b[0;34m.\u001b[0m\u001b[0mpop\u001b[0m\u001b[0;34m(\u001b[0m\u001b[0;34m'bbox'\u001b[0m\u001b[0;34m,\u001b[0m \u001b[0;32mNone\u001b[0m\u001b[0;34m)\u001b[0m\u001b[0;34m\u001b[0m\u001b[0m\n\u001b[0;32m---> 21\u001b[0;31m     \u001b[0;32mwith\u001b[0m \u001b[0mfiona\u001b[0m\u001b[0;34m.\u001b[0m\u001b[0mopen\u001b[0m\u001b[0;34m(\u001b[0m\u001b[0mfilename\u001b[0m\u001b[0;34m,\u001b[0m \u001b[0;34m**\u001b[0m\u001b[0mkwargs\u001b[0m\u001b[0;34m)\u001b[0m \u001b[0;32mas\u001b[0m \u001b[0mf\u001b[0m\u001b[0;34m:\u001b[0m\u001b[0;34m\u001b[0m\u001b[0m\n\u001b[0m\u001b[1;32m     22\u001b[0m         \u001b[0mcrs\u001b[0m \u001b[0;34m=\u001b[0m \u001b[0mf\u001b[0m\u001b[0;34m.\u001b[0m\u001b[0mcrs\u001b[0m\u001b[0;34m\u001b[0m\u001b[0m\n\u001b[1;32m     23\u001b[0m         \u001b[0;32mif\u001b[0m \u001b[0mbbox\u001b[0m \u001b[0;32mis\u001b[0m \u001b[0;32mnot\u001b[0m \u001b[0;32mNone\u001b[0m\u001b[0;34m:\u001b[0m\u001b[0;34m\u001b[0m\u001b[0m\n",
      "\u001b[0;32m/Applications/anaconda/lib/python3.5/site-packages/fiona/__init__.py\u001b[0m in \u001b[0;36mopen\u001b[0;34m(path, mode, driver, schema, crs, encoding, layer, vfs, enabled_drivers, crs_wkt)\u001b[0m\n\u001b[1;32m    164\u001b[0m                 \u001b[0;32mraise\u001b[0m \u001b[0mIOError\u001b[0m\u001b[0;34m(\u001b[0m\u001b[0;34m\"no such archive file: %r\"\u001b[0m \u001b[0;34m%\u001b[0m \u001b[0marchive\u001b[0m\u001b[0;34m)\u001b[0m\u001b[0;34m\u001b[0m\u001b[0m\n\u001b[1;32m    165\u001b[0m         \u001b[0;32melif\u001b[0m \u001b[0mpath\u001b[0m \u001b[0;34m!=\u001b[0m \u001b[0;34m'-'\u001b[0m \u001b[0;32mand\u001b[0m \u001b[0;32mnot\u001b[0m \u001b[0mos\u001b[0m\u001b[0;34m.\u001b[0m\u001b[0mpath\u001b[0m\u001b[0;34m.\u001b[0m\u001b[0mexists\u001b[0m\u001b[0;34m(\u001b[0m\u001b[0mpath\u001b[0m\u001b[0;34m)\u001b[0m\u001b[0;34m:\u001b[0m\u001b[0;34m\u001b[0m\u001b[0m\n\u001b[0;32m--> 166\u001b[0;31m             \u001b[0;32mraise\u001b[0m \u001b[0mIOError\u001b[0m\u001b[0;34m(\u001b[0m\u001b[0;34m\"no such file or directory: %r\"\u001b[0m \u001b[0;34m%\u001b[0m \u001b[0mpath\u001b[0m\u001b[0;34m)\u001b[0m\u001b[0;34m\u001b[0m\u001b[0m\n\u001b[0m\u001b[1;32m    167\u001b[0m         c = Collection(path, mode, driver=driver, encoding=encoding,\n\u001b[1;32m    168\u001b[0m                        \u001b[0mlayer\u001b[0m\u001b[0;34m=\u001b[0m\u001b[0mlayer\u001b[0m\u001b[0;34m,\u001b[0m \u001b[0mvsi\u001b[0m\u001b[0;34m=\u001b[0m\u001b[0mvsi\u001b[0m\u001b[0;34m,\u001b[0m \u001b[0marchive\u001b[0m\u001b[0;34m=\u001b[0m\u001b[0marchive\u001b[0m\u001b[0;34m,\u001b[0m\u001b[0;34m\u001b[0m\u001b[0m\n",
      "\u001b[0;31mOSError\u001b[0m: no such file or directory: 'resources/results/sf_secondary_Webster_Posey_cutlinks/demand_1p5_gap100.geojson'"
     ]
    }
   ],
   "source": [
    "from ue_solver.process_results import geoj_vmt_vht_delay\n",
    "import time\n",
    "\n",
    "start = time.time()\n",
    "print('started at', start)\n",
    "\n",
    "results_geoj = 'resources/results/sf_secondary_Webster_Posey_cutlinks/demand_1p5_gap100.geojson'\n",
    "totalODflow = 1158029.0\n",
    "min_speed = 0\n",
    "cities_aggregate_output_file = 'resources/results/sf_secondary_Webster_Posey_cutlinks/vmt_vht_delay_cities.csv'\n",
    "output_summary = 'resources/results/sf_secondary_Webster_Posey_cutlinks/vmt_vht_delay_summary.csv'\n",
    "save_path = 'resources/results/sf_secondary_Webster_Posey_cutlinks/vmt_vht_delay.pdf'\n",
    "\n",
    "geoj_vmt_vht_delay(results_geoj, cities_aggregate_output_file, output_summary, totalODflow, min_speed, save_path)\n",
    "\n",
    "print('done in', time.time()-start, 'sec')"
   ]
  },
  {
   "cell_type": "code",
   "execution_count": null,
   "metadata": {
    "collapsed": true
   },
   "outputs": [],
   "source": []
  }
 ],
 "metadata": {
  "kernelspec": {
   "display_name": "Python 3",
   "language": "python",
   "name": "python3"
  },
  "language_info": {
   "codemirror_mode": {
    "name": "ipython",
    "version": 3
   },
   "file_extension": ".py",
   "mimetype": "text/x-python",
   "name": "python",
   "nbconvert_exporter": "python",
   "pygments_lexer": "ipython3",
   "version": "3.5.1"
  }
 },
 "nbformat": 4,
 "nbformat_minor": 0
}

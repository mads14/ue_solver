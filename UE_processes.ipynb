{
 "cells": [
  {
   "cell_type": "markdown",
   "metadata": {},
   "source": [
    "# Code to run UE solver processes:\n",
    "\n",
    "These instructions assume that a pre-step has been done to generate a networkx graph of the network.\n",
    "Will also assume that we have converted the graph to a geojson and added appropriate extra fields (like city, county, etc.) If this is not the case - these steps can be completed in the **Converting networkx into geojson (only has to be done once)** cell below.\n",
    "\n",
    "To run the solver, we require the following inputs:\n",
    "* networkx graph\n",
    "* TAZ demand\n",
    "* TAZ shapefile\n",
    "\n",
    "\n",
    "# Run solver\n",
    "Below is the baseline run case:"
   ]
  },
  {
   "cell_type": "code",
   "execution_count": 7,
   "metadata": {
    "collapsed": false
   },
   "outputs": [
    {
     "name": "stdout",
     "output_type": "stream",
     "text": [
      "started at 1486397881.31\n",
      "Running FW algorithm\n",
      "done in 3715.66877103 sec\n"
     ]
    }
   ],
   "source": [
    "from ue_solver import run_solver\n",
    "\n",
    "taz_demand_f = 'resources/demand/TAZ_sf_demand.csv'\n",
    "network_graph = 'resources/network/sf_secondary_Webster_Posey_cutlinks/network_graph.txt'\n",
    "output_file = 'resources/results/sf_secondary_Webster_Posey_cutlinks/demand_1p5_gap100.txt'\n",
    "\n",
    "run_solver.run_solver_full(network_graph, taz_demand_f, output_file, \n",
    "                           taz_shapefile='resources/shapefiles/bay_area_tazs',\n",
    "                           demand_scale = 1.5, distance_factor=0, toll_factor=0, \n",
    "                           gap = 10.0)\n"
   ]
  },
  {
   "cell_type": "markdown",
   "metadata": {},
   "source": [
    "### Converting networkx into geojson (only has to be done once)\n",
    "If geojson exists for the network of interest, than should not need to run this cell."
   ]
  },
  {
   "cell_type": "code",
   "execution_count": 17,
   "metadata": {
    "collapsed": false
   },
   "outputs": [
    {
     "name": "stdout",
     "output_type": "stream",
     "text": [
      "<type 'str'>\n",
      "77028\n",
      "network already has city labels\n"
     ]
    }
   ],
   "source": [
    "from ue_solver.conversions import networkx_to_geojson\n",
    "from ue_solver.modify_network import remove_duplicate_links\n",
    "from ue_solver.modify_network import append_city_names\n",
    "\n",
    "#inputs:\n",
    "graph_f='resources/network/sf_secondary_Webster_Posey_cutlinks/network_graph.txt'\n",
    "geojson_f ='resources/network/sf_secondary_Webster_Posey_cutlinks/network.geojson' \n",
    "\n",
    "networkx_to_geojson(graph_f, geojson_outf=geojson_f)\n",
    "\n",
    "# if this is the first time creating a geojson from a networkx, probably want to \n",
    "# run the following clean-up:\n",
    "remove_duplicate_links(geojson_inf=geojson_f, geojson_outf=geojson_f)\n",
    "\n",
    "#to add city (and county) info:\n",
    "ca_cities_shp = 'resources/shapefiles/ca_cities_2014'\n",
    "append_city_names(ca_cities_shp, geojson_f)"
   ]
  },
  {
   "cell_type": "markdown",
   "metadata": {},
   "source": [
    "# Modifying network: \n",
    "## 1. Update network capacity:"
   ]
  },
  {
   "cell_type": "code",
   "execution_count": 1,
   "metadata": {
    "collapsed": true
   },
   "outputs": [],
   "source": [
    "from ue_solver.modify_network import update_capacity\n",
    "\n",
    "attr_dict = {'county': ['Alameda']}\n",
    "# attr_dict = {'city': ['Berkeley', 'Oakland']}\n",
    "percent_cap = .5\n",
    "geojson_inf = 'resources/network/sf_secondary/network.geojson'\n",
    "geojson_outf = 'resources/network/sf_secondary_alameda_0p5/network.geojson'\n",
    "graph_outf = 'resources/network/sf_secondary_alameda_0p5/network_graph.txt'\n",
    "\n",
    "update_capacity(attr_dict, percent_cap, geojson_inf, \n",
    "                geojson_outf, graph_outf)"
   ]
  },
  {
   "cell_type": "markdown",
   "metadata": {},
   "source": [
    "## 2. Cut links:"
   ]
  },
  {
   "cell_type": "code",
   "execution_count": 4,
   "metadata": {
    "collapsed": false
   },
   "outputs": [],
   "source": [
    "from ue_solver.modify_network import cut_links\n",
    "\n",
    "#Inputs:\n",
    "geojson_inf = 'resources/network/sf_secondary/network.geojson'\n",
    "links_f = 'resources/cut_links/Webster_Posey_cutlinks.csv'\n",
    "geojson_outf = 'resources/network/sf_secondary_Webster_Posey_cutlinks/network.geojson'\n",
    "graph_outf = 'resources/network/sf_secondary_Webster_Posey_cutlinks/network_graph.txt'\n",
    "\n",
    "cut_links(geojson_inf, links_f, geojson_outf, graph_outf)"
   ]
  },
  {
   "cell_type": "markdown",
   "metadata": {},
   "source": [
    "# Process results\n",
    "\n",
    "## 1. Results to geojson"
   ]
  },
  {
   "cell_type": "code",
   "execution_count": 18,
   "metadata": {
    "collapsed": false
   },
   "outputs": [],
   "source": [
    "from ue_solver.process_results import results_to_geojson\n",
    "\n",
    "#Inputs:\n",
    "results_f = 'resources/results/sf_secondary_Webster_Posey_cutlinks/demand_1p5_gap100.txt'\n",
    "geojson_inf = 'resources/network/sf_secondary_Webster_Posey_cutlinks/network.geojson'\n",
    "geojson_outf = 'resources/results/sf_secondary_Webster_Posey_cutlinks/demand_1p5_gap100.geojson'\n",
    "\n",
    "results_to_geojson(results_f, geojson_inf, geojson_outf)"
   ]
  },
  {
   "cell_type": "markdown",
   "metadata": {},
   "source": [
    "## 2. VMT, VHT, Delay"
   ]
  },
  {
   "cell_type": "code",
   "execution_count": 19,
   "metadata": {
    "collapsed": false
   },
   "outputs": [
    {
     "name": "stdout",
     "output_type": "stream",
     "text": [
      "started at 1486406163.51\n",
      "12996836.0795 388126.612612 103352.715392\n",
      "done in 36.9094541073 sec\n"
     ]
    }
   ],
   "source": [
    "from ue_solver.process_results import geoj_vmt_vht_delay\n",
    "import time\n",
    "\n",
    "start = time.time()\n",
    "print 'started at', start\n",
    "\n",
    "results_geoj = 'resources/results/sf_secondary_Webster_Posey_cutlinks/demand_1p5_gap100.geojson'\n",
    "totalODflow = 1158029.0\n",
    "min_speed = 0\n",
    "cities_aggregate_output_file = 'resources/results/sf_secondary_Webster_Posey_cutlinks/vmt_vht_delay_cities.csv'\n",
    "output_summary = 'resources/results/sf_secondary_Webster_Posey_cutlinks/vmt_vht_delay_summary.csv'\n",
    "save_path = 'resources/results/sf_secondary_Webster_Posey_cutlinks/vmt_vht_delay.pdf'\n",
    "\n",
    "geoj_vmt_vht_delay(results_geoj, cities_aggregate_output_file, output_summary, totalODflow, min_speed, save_path)\n",
    "\n",
    "print 'done in', time.time()-start, 'sec'"
   ]
  },
  {
   "cell_type": "code",
   "execution_count": null,
   "metadata": {
    "collapsed": true
   },
   "outputs": [],
   "source": []
  }
 ],
 "metadata": {
  "kernelspec": {
   "display_name": "Python 2",
   "language": "python",
   "name": "python2"
  },
  "language_info": {
   "codemirror_mode": {
    "name": "ipython",
    "version": 2
   },
   "file_extension": ".py",
   "mimetype": "text/x-python",
   "name": "python",
   "nbconvert_exporter": "python",
   "pygments_lexer": "ipython2",
   "version": "2.7.12"
  }
 },
 "nbformat": 4,
 "nbformat_minor": 0
}

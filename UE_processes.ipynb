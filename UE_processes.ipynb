{
 "cells": [
  {
   "cell_type": "markdown",
   "metadata": {},
   "source": [
    "# Code to run UE solver processes:\n",
    "\n",
    "These instructions assume that a pre-step has been done to generate a networkx graph of the network.\n",
    "Will also assume that we have converted the graph to a geojson and added appropriate extra fields (like city, county, etc.) \n",
    "\n",
    "If this is not the case - these steps can be completed in the **Converting networkx into geojson (only has to be done once)** cell below.\n",
    "\n",
    "To run the solver, we require the following inputs:\n",
    "* Networkx graph\n",
    "* Demand file grouped by some partitions of an area (i.e. TAZ, city, county, district, etc)\n",
    "    * Demand file should have three columns: origin, destination, and flow\n",
    "* Shapefile corresponding to the above demand file\n",
    "\n",
    "\n",
    "# Run solver\n",
    "Below is the baseline run case:"
   ]
  },
  {
   "cell_type": "code",
   "execution_count": 1,
   "metadata": {
    "collapsed": false
   },
   "outputs": [
    {
     "name": "stdout",
     "output_type": "stream",
     "text": [
      "started at 1492657350.257315\n",
      "Running FW algorithm\n",
      "done in 573.3583581447601 sec\n"
     ]
    }
   ],
   "source": [
    "from ue_solver import run_solver\n",
    "\n",
    "taz_demand_f = 'resources/demand/TAZ_sf_demand.csv'\n",
    "network_graph = 'resources/network/sf_secondary/network_graph.txt'\n",
    "output_file = 'resources/results/sf_secondary/demand_1p5_gap100.txt'\n",
    "\n",
    "run_solver.run_solver_full(network_graph, taz_demand_f, output_file, \n",
    "                           taz_shapefile='resources/shapefiles/bay_area_tazs',\n",
    "                           demand_scale = 1.5, distance_factor=0, toll_factor=0, \n",
    "                           gap = 10.0)\n"
   ]
  },
  {
   "cell_type": "markdown",
   "metadata": {},
   "source": [
    "### Converting networkx into geojson (only has to be done once)\n",
    "If geojson exists for the network of interest, than should not need to run this cell."
   ]
  },
  {
   "cell_type": "code",
   "execution_count": 2,
   "metadata": {
    "collapsed": false
   },
   "outputs": [
    {
     "name": "stdout",
     "output_type": "stream",
     "text": [
      "network already has city labels\n"
     ]
    }
   ],
   "source": [
    "from ue_solver.conversions import networkx_to_geojson\n",
    "from ue_solver.modify_network import remove_duplicate_links\n",
    "from ue_solver.modify_network import append_city_names\n",
    "\n",
    "#inputs:\n",
    "graph_f='resources/network/sf_secondary/network_graph.txt'\n",
    "geojson_f ='resources/network/sf_secondary/network.geojson' \n",
    "\n",
    "networkx_to_geojson(graph_f, geojson_outf=geojson_f)\n",
    "\n",
    "# if this is the first time creating a geojson from a networkx, probably want to \n",
    "# run the following clean-up:\n",
    "remove_duplicate_links(geojson_inf=geojson_f, geojson_outf=geojson_f)\n",
    "\n",
    "#to add city (and county) info:\n",
    "ca_cities_shp = 'resources/shapefiles/ca_cities_2014'\n",
    "append_city_names(ca_cities_shp, geojson_f)"
   ]
  },
  {
   "cell_type": "markdown",
   "metadata": {},
   "source": [
    "# Modifying network: \n",
    "## 1. Update network capacity:\n",
    "* Simulate different capacities in network\n",
    "* Requires geoJSON format of networkx graph (can be obtained from conversion in the above cell)"
   ]
  },
  {
   "cell_type": "code",
   "execution_count": 3,
   "metadata": {
    "collapsed": true
   },
   "outputs": [],
   "source": [
    "from ue_solver.modify_network import update_capacity\n",
    "\n",
    "attr_dict = {'county': ['Alameda']}\n",
    "# attr_dict = {'city': ['Berkeley', 'Oakland']}\n",
    "percent_cap = .5\n",
    "geojson_inf = 'resources/network/sf_secondary/network.geojson'\n",
    "geojson_outf = 'resources/network/sf_secondary_alameda_0p5/network.geojson'\n",
    "graph_outf = 'resources/network/sf_secondary_alameda_0p5/network_graph.txt'\n",
    "\n",
    "update_capacity(attr_dict, percent_cap, geojson_inf, \n",
    "                geojson_outf, graph_outf)"
   ]
  },
  {
   "cell_type": "markdown",
   "metadata": {},
   "source": [
    "## 2. Cut links:\n",
    "* Simulate network with links removed\n",
    "* Cut links is a CSV file of links that will be removed (to simulate road closures, etc)"
   ]
  },
  {
   "cell_type": "code",
   "execution_count": 4,
   "metadata": {
    "collapsed": false
   },
   "outputs": [],
   "source": [
    "from ue_solver.modify_network import cut_links\n",
    "\n",
    "#Inputs:\n",
    "geojson_inf = 'resources/network/sf_secondary/network.geojson'\n",
    "links_f = 'resources/cut_links/SLR025_KT_cutlinks.csv'\n",
    "geojson_outf = 'resources/network/sf_secondary_cutlinks/network.geojson'\n",
    "graph_outf = 'resources/network/sf_secondary_cutlinks/network_graph.txt'\n",
    "\n",
    "cut_links(geojson_inf, links_f, geojson_outf, graph_outf)"
   ]
  },
  {
   "cell_type": "markdown",
   "metadata": {},
   "source": [
    "# Process results\n",
    "* Now that the results have been generated from \"Run solver\", we can analyze VMT (Vehicle Miles Traveled), VHT (Vehicle Hours Traveled), and Delay (difference from free flow time)\n",
    "\n",
    "## 1. Results to geojson"
   ]
  },
  {
   "cell_type": "code",
   "execution_count": 5,
   "metadata": {
    "collapsed": false
   },
   "outputs": [],
   "source": [
    "from ue_solver.process_results import results_to_geojson\n",
    "\n",
    "#Inputs:\n",
    "results_f = 'resources/results/sf_secondary/demand_1p5_gap100.txt'\n",
    "geojson_inf = 'resources/network/sf_secondary/network.geojson'\n",
    "geojson_outf = 'resources/results/sf_secondary/demand_1p5_gap100.geojson'\n",
    "\n",
    "results_to_geojson(results_f, geojson_inf, geojson_outf)"
   ]
  },
  {
   "cell_type": "markdown",
   "metadata": {},
   "source": [
    "## 2. VMT, VHT, Delay\n",
    "Takes the results calculated from solver and sums miles, hours and delay for each trip to calculate vehicle miles traveled, vehicle hours traveled and delay respectively.\n",
    "\n",
    "Vehical miles traveled and vehicle hours traveled are calculated by multiplying flow across a link by the length and time traveled respectively. \n",
    "Delay is calculated by taking the difference between result travel time and free flow travel time.\n"
   ]
  },
  {
   "cell_type": "code",
   "execution_count": 1,
   "metadata": {
    "collapsed": false
   },
   "outputs": [
    {
     "name": "stdout",
     "output_type": "stream",
     "text": [
      "started at 1492638035.069023\n",
      "This file already exists. Would you like to write over it? (y/n)y\n",
      "totalvmt: 14742299.664696818\n",
      "totalvht: 657962.116551791\n",
      "totaldelay: 325307.16850150883\n",
      "vmt per traveler: 12.73050991356591\n",
      "vht per traveler: 0.568174127376595\n",
      "delay per traveler: 0.28091452675322365\n",
      "done in 489.1756160259247 sec\n"
     ]
    }
   ],
   "source": [
    "from ue_solver.process_results import geoj_vmt_vht_delay\n",
    "import time\n",
    "\n",
    "\n",
    "start = time.time()\n",
    "print('started at', start)\n",
    "\n",
    "results_geoj = 'resources/results/sf_secondary/demand_1p5_gap100.geojson'\n",
    "totalODflow = 1158029.0\n",
    "min_speed = 0\n",
    "cities_aggregate_output_file = 'resources/results/sf_secondary/vmt_vht_delay_cities.csv'\n",
    "output_summary = 'resources/results/sf_secondary/vmt_vht_delay_summary.csv'\n",
    "save_path = 'resources/results/sf_secondary/vmt_vht_delay.pdf'\n",
    "\n",
    "geoj_vmt_vht_delay(results_geoj, cities_aggregate_output_file, output_summary, totalODflow, min_speed, save_path)\n",
    "\n",
    "print('done in', time.time()-start, 'sec')"
   ]
  },
  {
   "cell_type": "code",
   "execution_count": null,
   "metadata": {
    "collapsed": true
   },
   "outputs": [],
   "source": []
  }
 ],
 "metadata": {
  "kernelspec": {
   "display_name": "Python 3",
   "language": "python",
   "name": "python3"
  },
  "language_info": {
   "codemirror_mode": {
    "name": "ipython",
    "version": 3
   },
   "file_extension": ".py",
   "mimetype": "text/x-python",
   "name": "python",
   "nbconvert_exporter": "python",
   "pygments_lexer": "ipython3",
   "version": "3.5.1"
  }
 },
 "nbformat": 4,
 "nbformat_minor": 0
}

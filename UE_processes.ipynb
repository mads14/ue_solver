{
 "cells": [
  {
   "cell_type": "markdown",
   "metadata": {},
   "source": [
    "# Code to run UE solver processes:\n",
    "\n",
    "### Introduction\n",
    "\n",
    "This UE Solver takes an origin-destination demand input (origin, destination, number of cars taking this path) and a road network and assigns a path for each trip such that **the travel time for each trip is minimized.** \n",
    "\n",
    "In addition to solving this problem, the UE Solver has several methods to simulate alternative road networks. Reasons for altering the road network include increasing/decreasing road capacity, simulating road closures, floods, or any sort of disruption in the original road network. \n",
    "\n",
    "Processing the results will convert the assigned paths to a geojson file. In addition, processing results can calculate VMT, VHT, and delay.\n",
    "\n",
    "### Notes\n",
    "These instructions assume that a pre-step has been done to generate a networkx graph of the network.\n",
    "It is also assumed that we have converted the graph to a geojson and added appropriate extra fields (like city, county, etc.) \n",
    "\n",
    "If this is not the case - these steps can be completed in the \"Converting networkx into geojson (only has to be done once)\" cell [below](#convertingtogeojson) <a href = \"#convertingtogeojson\"> </a>.\n",
    "\n",
    "To run the solver, we require the following inputs:\n",
    "* Networkx graph\n",
    "* Demand file grouped by some partitions of an area (i.e. TAZ, city, county, district, etc)\n",
    "    * Demand file should have three columns: origin, destination, and flow\n",
    "* Shapefile corresponding to the above demand file"
   ]
  },
  {
   "cell_type": "markdown",
   "metadata": {},
   "source": [
    "# Using the solver\n",
    "\n",
    "### 1. Modifying the network (optional)\n",
    "* [Update network capacity](#network-capacity)\n",
    "<a href = \"#network-capacity\"> </a>\n",
    "* [Cut links](#cut-links)\n",
    "<a href = \"cut-links\"></a>\n",
    "\n",
    "### 2. Run solver [here](#run-solver)\n",
    "<a href = \"#run-solver\"></a>\n",
    "\n",
    "### 3. Process results [here](#process-results)\n",
    "<a href = \"#process-results\"></a>"
   ]
  },
  {
   "cell_type": "markdown",
   "metadata": {},
   "source": [
    "<a id = \"convertingtogeojson\"> </a>\n",
    "# Converting networkx into geojson (only has to be done once)\n",
    "If geojson exists for the network of interest, than should not need to run this cell."
   ]
  },
  {
   "cell_type": "code",
   "execution_count": 2,
   "metadata": {
    "collapsed": false
   },
   "outputs": [
    {
     "name": "stdout",
     "output_type": "stream",
     "text": [
      "Warning: CRS does not match!\n"
     ]
    }
   ],
   "source": [
    "from ue_solver.conversions import networkx_to_geojson\n",
    "from ue_solver.modify_network import remove_duplicate_links\n",
    "from ue_solver.modify_network import label_road_network, append_city_names\n",
    "\n",
    "#inputs:\n",
    "graph_f='resources/network/test_network/test_berkeley_graph.txt'\n",
    "geojson_f ='resources/network/test_network/test_berkeley_conversion.geojson' \n",
    "\n",
    "networkx_to_geojson(graph_f, geojson_outf=geojson_f)\n",
    "\n",
    "# if this is the first time creating a geojson from a networkx, probably want to \n",
    "# run the following clean-up:\n",
    "remove_duplicate_links(geojson_inf=geojson_f, geojson_outf=geojson_f)\n",
    "\n",
    "#to add city (and county) info:\n",
    "ca_cities_shp = 'resources/shapefiles/ca_cities_2014'\n",
    "label_road_network(ca_cities_shp, geojson_f, ['CityType','County','NAME'], geojson_f, ['city', 'county', 'name'])"
   ]
  },
  {
   "cell_type": "markdown",
   "metadata": {},
   "source": [
    "<a id=\"network-capacity\"> </a>\n",
    "# Modifying network: \n",
    "## 1. Update network capacity:\n",
    "* Simulate different capacities in network\n",
    "* Requires geoJSON format of networkx graph (can be obtained from conversion in the above cell)"
   ]
  },
  {
   "cell_type": "code",
   "execution_count": 3,
   "metadata": {
    "collapsed": true
   },
   "outputs": [],
   "source": [
    "from ue_solver.modify_network import update_capacity\n",
    "\n",
    "attr_dict = {'county': ['Alameda']}\n",
    "# attr_dict = {'city': ['Berkeley', 'Oakland']}\n",
    "percent_cap = .5\n",
    "geojson_inf = 'resources/network/test_network/test_berkeley.geojson'\n",
    "geojson_outf = 'resources/network/test_network/0p5berkeley.geojson'\n",
    "graph_outf = 'resources/network/test_network/test_berkeley_graph.txt'\n",
    "\n",
    "update_capacity(attr_dict, percent_cap, geojson_inf, \n",
    "                geojson_outf, graph_outf)"
   ]
  },
  {
   "cell_type": "markdown",
   "metadata": {},
   "source": [
    "<a id = \"cut-links\"> </a>\n",
    "## 2. Cut links:\n",
    "* Simulate network with links removed\n",
    "* Cut links is a CSV file of links that will be removed (to simulate road closures, etc)\n",
    "* **Note on formatting**:\n",
    "    * CSV file should have 2 columns, OSM init and OSM terminal (from Open Street Maps)"
   ]
  },
  {
   "cell_type": "code",
   "execution_count": 4,
   "metadata": {
    "collapsed": false
   },
   "outputs": [],
   "source": [
    "from ue_solver.modify_network import cut_links\n",
    "\n",
    "#Inputs:\n",
    "geojson_inf = 'resources/network/test_network/test_berkeley.geojson'\n",
    "links_f = 'resources/cut_links/test_cutlinks/berkeley_cut_links.csv'\n",
    "geojson_outf = 'resources/network/test_network/berkeley_w_cutlinks.geojson'\n",
    "graph_outf = 'resources/network/test_network/berkeley_w_cutlinks_graph.txt'\n",
    "\n",
    "cut_links(geojson_inf, links_f, geojson_outf, graph_outf)"
   ]
  },
  {
   "cell_type": "markdown",
   "metadata": {},
   "source": [
    "<a id = \"run-solver\"> </a>\n",
    "# Run solver"
   ]
  },
  {
   "cell_type": "code",
   "execution_count": null,
   "metadata": {
    "collapsed": false
   },
   "outputs": [
    {
     "name": "stdout",
     "output_type": "stream",
     "text": [
      "started at 1494136583.382087\n",
      "Running FW algorithm\n"
     ]
    }
   ],
   "source": [
    "from ue_solver import run_solver\n",
    "\n",
    "taz_demand_f = 'resources/demand/TAZ_sf_demand.csv'\n",
    "network_graph = 'resources/network/test_network/berkeley_w_cutlinks_graph.txt'\n",
    "output_file = 'resources/results/berkeley_demand_1p5_gap100.txt'\n",
    "\n",
    "run_solver.run_solver_full(network_graph, taz_demand_f, output_file, \n",
    "                           taz_shapefile='resources/shapefiles/bay_area_tazs',\n",
    "                           demand_scale = 1.5, distance_factor=0, toll_factor=0, \n",
    "                           gap = 10.0)\n"
   ]
  },
  {
   "cell_type": "markdown",
   "metadata": {},
   "source": [
    "<a id = \"process-results\"></a>\n",
    "# Process results\n",
    "* Now that the results have been generated from \"Run solver\", we can analyze VMT (Vehicle Miles Traveled), VHT (Vehicle Hours Traveled), and Delay (difference from free flow time)\n",
    "* The geojson file can be uploaded into QGIS to visualize results.\n",
    "\n",
    "## 1. Results to geojson"
   ]
  },
  {
   "cell_type": "code",
   "execution_count": 9,
   "metadata": {
    "collapsed": false
   },
   "outputs": [
    {
     "ename": "OSError",
     "evalue": "b'Failed to read GeoJSON data'",
     "output_type": "error",
     "traceback": [
      "\u001b[0;31m---------------------------------------------------------------------------\u001b[0m",
      "\u001b[0;31mOSError\u001b[0m                                   Traceback (most recent call last)",
      "\u001b[0;32m<ipython-input-9-46816a8d7a12>\u001b[0m in \u001b[0;36m<module>\u001b[0;34m()\u001b[0m\n\u001b[1;32m      6\u001b[0m \u001b[0mgeojson_outf\u001b[0m \u001b[0;34m=\u001b[0m \u001b[0;34m'resources/results/sf_secondary/demand_1p5_gap100.geojson'\u001b[0m\u001b[0;34m\u001b[0m\u001b[0m\n\u001b[1;32m      7\u001b[0m \u001b[0;34m\u001b[0m\u001b[0m\n\u001b[0;32m----> 8\u001b[0;31m \u001b[0mresults_to_geojson\u001b[0m\u001b[0;34m(\u001b[0m\u001b[0mresults_f\u001b[0m\u001b[0;34m,\u001b[0m \u001b[0mgeojson_inf\u001b[0m\u001b[0;34m,\u001b[0m \u001b[0mgeojson_outf\u001b[0m\u001b[0;34m)\u001b[0m\u001b[0;34m\u001b[0m\u001b[0m\n\u001b[0m",
      "\u001b[0;32m/Users/heatherchen/ce_research/ue_solver/ue_solver/process_results.py\u001b[0m in \u001b[0;36mresults_to_geojson\u001b[0;34m(results_f, geojson_inf, geojson_outf)\u001b[0m\n\u001b[1;32m     18\u001b[0m     \u001b[0;34m-\u001b[0m \u001b[0mgeojson_outf\u001b[0m \u001b[0;34m=\u001b[0m \u001b[0mstring\u001b[0m\u001b[0;34m,\u001b[0m \u001b[0mpath\u001b[0m \u001b[0msave\u001b[0m \u001b[0mlocation\u001b[0m \u001b[0;32mfor\u001b[0m \u001b[0mresults\u001b[0m \u001b[0mgeojson\u001b[0m\u001b[0;34m\u001b[0m\u001b[0m\n\u001b[1;32m     19\u001b[0m     '''\n\u001b[0;32m---> 20\u001b[0;31m     \u001b[0mgeodf\u001b[0m \u001b[0;34m=\u001b[0m \u001b[0mcreate_results_df\u001b[0m\u001b[0;34m(\u001b[0m\u001b[0mresults_f\u001b[0m\u001b[0;34m,\u001b[0m \u001b[0mgeojson_inf\u001b[0m\u001b[0;34m)\u001b[0m\u001b[0;34m\u001b[0m\u001b[0m\n\u001b[0m\u001b[1;32m     21\u001b[0m     \u001b[0;32mwith\u001b[0m \u001b[0mopen\u001b[0m\u001b[0;34m(\u001b[0m\u001b[0mgeojson_outf\u001b[0m\u001b[0;34m,\u001b[0m \u001b[0;34m'w'\u001b[0m\u001b[0;34m)\u001b[0m \u001b[0;32mas\u001b[0m \u001b[0mf\u001b[0m\u001b[0;34m:\u001b[0m\u001b[0;34m\u001b[0m\u001b[0m\n\u001b[1;32m     22\u001b[0m         \u001b[0mf\u001b[0m\u001b[0;34m.\u001b[0m\u001b[0mwrite\u001b[0m\u001b[0;34m(\u001b[0m\u001b[0mgeodf\u001b[0m\u001b[0;34m.\u001b[0m\u001b[0mto_json\u001b[0m\u001b[0;34m(\u001b[0m\u001b[0;34m)\u001b[0m\u001b[0;34m)\u001b[0m\u001b[0;34m\u001b[0m\u001b[0m\n",
      "\u001b[0;32m/Users/heatherchen/ce_research/ue_solver/ue_solver/process_results.py\u001b[0m in \u001b[0;36mcreate_results_df\u001b[0;34m(results_f, network_geojson)\u001b[0m\n\u001b[1;32m     31\u001b[0m     \u001b[0;34m-\u001b[0m \u001b[0mnetwork_geoj\u001b[0m \u001b[0;34m=\u001b[0m \u001b[0mtype\u001b[0m \u001b[0mstring\u001b[0m\u001b[0;34m,\u001b[0m \u001b[0mpath\u001b[0m \u001b[0mto\u001b[0m \u001b[0mnetwork\u001b[0m \u001b[0mgeojson\u001b[0m\u001b[0;34m\u001b[0m\u001b[0m\n\u001b[1;32m     32\u001b[0m     '''\n\u001b[0;32m---> 33\u001b[0;31m     \u001b[0mlinks\u001b[0m \u001b[0;34m=\u001b[0m \u001b[0mgpd\u001b[0m\u001b[0;34m.\u001b[0m\u001b[0mread_file\u001b[0m\u001b[0;34m(\u001b[0m\u001b[0mnetwork_geojson\u001b[0m\u001b[0;34m)\u001b[0m\u001b[0;34m\u001b[0m\u001b[0m\n\u001b[0m\u001b[1;32m     34\u001b[0m     \u001b[0;32mfor\u001b[0m \u001b[0mcol\u001b[0m \u001b[0;32min\u001b[0m \u001b[0;34m[\u001b[0m\u001b[0;34m'cost'\u001b[0m\u001b[0;34m,\u001b[0m\u001b[0;34m'flow'\u001b[0m\u001b[0;34m,\u001b[0m\u001b[0;34m'flow/capacity'\u001b[0m\u001b[0;34m,\u001b[0m\u001b[0;34m'tt/fftt'\u001b[0m\u001b[0;34m]\u001b[0m\u001b[0;34m:\u001b[0m\u001b[0;34m\u001b[0m\u001b[0m\n\u001b[1;32m     35\u001b[0m         \u001b[0;32mif\u001b[0m \u001b[0mcol\u001b[0m \u001b[0;32min\u001b[0m \u001b[0mlinks\u001b[0m\u001b[0;34m.\u001b[0m\u001b[0mcolumns\u001b[0m\u001b[0;34m:\u001b[0m\u001b[0;34m\u001b[0m\u001b[0m\n",
      "\u001b[0;32m/Applications/anaconda/lib/python3.5/site-packages/geopandas/io/file.py\u001b[0m in \u001b[0;36mread_file\u001b[0;34m(filename, **kwargs)\u001b[0m\n\u001b[1;32m     19\u001b[0m     \"\"\"\n\u001b[1;32m     20\u001b[0m     \u001b[0mbbox\u001b[0m \u001b[0;34m=\u001b[0m \u001b[0mkwargs\u001b[0m\u001b[0;34m.\u001b[0m\u001b[0mpop\u001b[0m\u001b[0;34m(\u001b[0m\u001b[0;34m'bbox'\u001b[0m\u001b[0;34m,\u001b[0m \u001b[0;32mNone\u001b[0m\u001b[0;34m)\u001b[0m\u001b[0;34m\u001b[0m\u001b[0m\n\u001b[0;32m---> 21\u001b[0;31m     \u001b[0;32mwith\u001b[0m \u001b[0mfiona\u001b[0m\u001b[0;34m.\u001b[0m\u001b[0mopen\u001b[0m\u001b[0;34m(\u001b[0m\u001b[0mfilename\u001b[0m\u001b[0;34m,\u001b[0m \u001b[0;34m**\u001b[0m\u001b[0mkwargs\u001b[0m\u001b[0;34m)\u001b[0m \u001b[0;32mas\u001b[0m \u001b[0mf\u001b[0m\u001b[0;34m:\u001b[0m\u001b[0;34m\u001b[0m\u001b[0m\n\u001b[0m\u001b[1;32m     22\u001b[0m         \u001b[0mcrs\u001b[0m \u001b[0;34m=\u001b[0m \u001b[0mf\u001b[0m\u001b[0;34m.\u001b[0m\u001b[0mcrs\u001b[0m\u001b[0;34m\u001b[0m\u001b[0m\n\u001b[1;32m     23\u001b[0m         \u001b[0;32mif\u001b[0m \u001b[0mbbox\u001b[0m \u001b[0;32mis\u001b[0m \u001b[0;32mnot\u001b[0m \u001b[0;32mNone\u001b[0m\u001b[0;34m:\u001b[0m\u001b[0;34m\u001b[0m\u001b[0m\n",
      "\u001b[0;32m/Applications/anaconda/lib/python3.5/site-packages/fiona/__init__.py\u001b[0m in \u001b[0;36mopen\u001b[0;34m(path, mode, driver, schema, crs, encoding, layer, vfs, enabled_drivers, crs_wkt)\u001b[0m\n\u001b[1;32m    167\u001b[0m         c = Collection(path, mode, driver=driver, encoding=encoding,\n\u001b[1;32m    168\u001b[0m                        \u001b[0mlayer\u001b[0m\u001b[0;34m=\u001b[0m\u001b[0mlayer\u001b[0m\u001b[0;34m,\u001b[0m \u001b[0mvsi\u001b[0m\u001b[0;34m=\u001b[0m\u001b[0mvsi\u001b[0m\u001b[0;34m,\u001b[0m \u001b[0marchive\u001b[0m\u001b[0;34m=\u001b[0m\u001b[0marchive\u001b[0m\u001b[0;34m,\u001b[0m\u001b[0;34m\u001b[0m\u001b[0m\n\u001b[0;32m--> 169\u001b[0;31m                        enabled_drivers=enabled_drivers)\n\u001b[0m\u001b[1;32m    170\u001b[0m     \u001b[0;32melif\u001b[0m \u001b[0mmode\u001b[0m \u001b[0;34m==\u001b[0m \u001b[0;34m'w'\u001b[0m\u001b[0;34m:\u001b[0m\u001b[0;34m\u001b[0m\u001b[0m\n\u001b[1;32m    171\u001b[0m         \u001b[0;32mif\u001b[0m \u001b[0mschema\u001b[0m\u001b[0;34m:\u001b[0m\u001b[0;34m\u001b[0m\u001b[0m\n",
      "\u001b[0;32m/Applications/anaconda/lib/python3.5/site-packages/fiona/collection.py\u001b[0m in \u001b[0;36m__init__\u001b[0;34m(self, path, mode, driver, schema, crs, encoding, layer, vsi, archive, enabled_drivers, crs_wkt, **kwargs)\u001b[0m\n\u001b[1;32m    146\u001b[0m             \u001b[0mself\u001b[0m\u001b[0;34m.\u001b[0m\u001b[0mencoding\u001b[0m \u001b[0;34m=\u001b[0m \u001b[0mencoding\u001b[0m\u001b[0;34m\u001b[0m\u001b[0m\n\u001b[1;32m    147\u001b[0m             \u001b[0mself\u001b[0m\u001b[0;34m.\u001b[0m\u001b[0msession\u001b[0m \u001b[0;34m=\u001b[0m \u001b[0mSession\u001b[0m\u001b[0;34m(\u001b[0m\u001b[0;34m)\u001b[0m\u001b[0;34m\u001b[0m\u001b[0m\n\u001b[0;32m--> 148\u001b[0;31m             \u001b[0mself\u001b[0m\u001b[0;34m.\u001b[0m\u001b[0msession\u001b[0m\u001b[0;34m.\u001b[0m\u001b[0mstart\u001b[0m\u001b[0;34m(\u001b[0m\u001b[0mself\u001b[0m\u001b[0;34m)\u001b[0m\u001b[0;34m\u001b[0m\u001b[0m\n\u001b[0m\u001b[1;32m    149\u001b[0m \u001b[0;34m\u001b[0m\u001b[0m\n\u001b[1;32m    150\u001b[0m             \u001b[0;31m# If encoding param is None, we'll use what the session\u001b[0m\u001b[0;34m\u001b[0m\u001b[0;34m\u001b[0m\u001b[0m\n",
      "\u001b[0;32mfiona/ogrext.pyx\u001b[0m in \u001b[0;36mfiona.ogrext.Session.start (fiona/ogrext2.c:9099)\u001b[0;34m()\u001b[0m\n",
      "\u001b[0;32mfiona/_err.pyx\u001b[0m in \u001b[0;36mfiona._err.GDALErrCtxManager.__exit__ (fiona/_err.c:1197)\u001b[0;34m()\u001b[0m\n",
      "\u001b[0;31mOSError\u001b[0m: b'Failed to read GeoJSON data'"
     ]
    }
   ],
   "source": [
    "from ue_solver.process_results import results_to_geojson\n",
    "\n",
    "#Inputs:\n",
    "results_f = 'resources/results/sf_secondary/demand_1p5_gap100.txt'\n",
    "geojson_inf = 'resources/network/sf_secondary/network.geojson'\n",
    "geojson_outf = 'resources/results/sf_secondary/demand_1p5_gap100.geojson'\n",
    "\n",
    "results_to_geojson(results_f, geojson_inf, geojson_outf)"
   ]
  },
  {
   "cell_type": "markdown",
   "metadata": {},
   "source": [
    "## 2. VMT, VHT, Delay\n",
    "Takes the results calculated from solver and sums miles, hours and delay for each trip to calculate vehicle miles traveled, vehicle hours traveled and delay respectively.\n",
    "\n",
    "Vehical miles traveled and vehicle hours traveled are calculated by multiplying flow across a link by the length and time traveled respectively. \n",
    "Delay is calculated by taking the difference between result travel time and free flow travel time.\n"
   ]
  },
  {
   "cell_type": "code",
   "execution_count": 10,
   "metadata": {
    "collapsed": false
   },
   "outputs": [
    {
     "name": "stdout",
     "output_type": "stream",
     "text": [
      "started at 1494131332.84979\n",
      "This file already exists. Would you like to write over it? (y/n)y\n",
      "totalvmt: 14742299.664696818\n",
      "totalvht: 657962.116551791\n",
      "totaldelay: 325307.16850150883\n",
      "vmt per traveler: 12.73050991356591\n",
      "vht per traveler: 0.568174127376595\n",
      "delay per traveler: 0.28091452675322365\n",
      "done in 22.948079824447632 sec\n"
     ]
    }
   ],
   "source": [
    "from ue_solver.process_results import geoj_vmt_vht_delay\n",
    "import time\n",
    "\n",
    "\n",
    "start = time.time()\n",
    "print('started at', start)\n",
    "\n",
    "results_geoj = 'resources/results/sf_secondary/demand_1p5_gap100.geojson'\n",
    "totalODflow = 1158029.0\n",
    "min_speed = 0\n",
    "cities_aggregate_output_file = 'resources/results/sf_secondary/vmt_vht_delay_cities.csv'\n",
    "output_summary = 'resources/results/sf_secondary/vmt_vht_delay_summary.csv'\n",
    "save_path = 'resources/results/sf_secondary/vmt_vht_delay.pdf'\n",
    "\n",
    "geoj_vmt_vht_delay(results_geoj, cities_aggregate_output_file, output_summary, totalODflow, min_speed, save_path)\n",
    "\n",
    "print('done in', time.time()-start, 'sec')"
   ]
  },
  {
   "cell_type": "code",
   "execution_count": null,
   "metadata": {
    "collapsed": true
   },
   "outputs": [],
   "source": []
  }
 ],
 "metadata": {
  "kernelspec": {
   "display_name": "Python 3",
   "language": "python",
   "name": "python3"
  },
  "language_info": {
   "codemirror_mode": {
    "name": "ipython",
    "version": 3
   },
   "file_extension": ".py",
   "mimetype": "text/x-python",
   "name": "python",
   "nbconvert_exporter": "python",
   "pygments_lexer": "ipython3",
   "version": "3.5.1"
  }
 },
 "nbformat": 4,
 "nbformat_minor": 0
}
